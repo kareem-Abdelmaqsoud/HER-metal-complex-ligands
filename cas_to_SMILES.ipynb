{
 "cells": [
  {
   "cell_type": "code",
   "execution_count": 4,
   "metadata": {},
   "outputs": [
    {
     "name": "stdout",
     "output_type": "stream",
     "text": [
      "The results have been successfully exported to smiles_results.csv\n"
     ]
    }
   ],
   "source": [
    "import urllib.request\n",
    "import pandas as pd\n",
    "\n",
    "def CAS_to_SMILES(cas_numbers):\n",
    "    smiles_strings = {}\n",
    "    for cas in cas_numbers:\n",
    "        try:\n",
    "            url = 'http://cactus.nci.nih.gov/chemical/structure/' + cas + '/smiles'\n",
    "            smiles_string = urllib.request.urlopen(url).read().decode('utf8')\n",
    "            smiles_strings[cas] = smiles_string\n",
    "        except:\n",
    "            smiles_strings[cas] = 'Conversion failed'\n",
    "    return smiles_strings\n",
    "\n",
    "# Load the SMILES strings from a CSV file\n",
    "cas = pd.read_csv(r'failed-smiles.csv')\n",
    "cas_numbers = cas['CAS Number'].tolist()\n",
    "\n",
    "# Get the SMILES strings\n",
    "smiles_strings = CAS_to_SMILES(cas_numbers)\n",
    "\n",
    "# Convert the results to a DataFrame\n",
    "results_df = pd.DataFrame(list(smiles_strings.items()), columns=['CAS Number', 'SMILES'])\n",
    "\n",
    "# Export the results to a CSV file\n",
    "results_df.to_csv('smiles_results_2.csv', index=False)\n",
    "\n",
    "print(\"The results have been successfully exported to smiles_results.csv\")\n",
    "\n"
   ]
  },
  {
   "cell_type": "code",
   "execution_count": 7,
   "metadata": {},
   "outputs": [
    {
     "name": "stdout",
     "output_type": "stream",
     "text": [
      "Conversion complete. The results are saved in cas_to_smiles.csv.\n"
     ]
    }
   ],
   "source": [
    "import csv\n",
    "import requests\n",
    "\n",
    "def cas_to_smiles(cas_number):\n",
    "    url = f\"https://pubchem.ncbi.nlm.nih.gov/rest/pug/compound/name/{cas_number}/property/CanonicalSMILES/JSON\"\n",
    "    response = requests.get(url)\n",
    "    if response.status_code == 200:\n",
    "        data = response.json()\n",
    "        try:\n",
    "            smiles = data['PropertyTable']['Properties'][0]['CanonicalSMILES']\n",
    "            return smiles\n",
    "        except (IndexError, KeyError):\n",
    "            return \"SMILES string not found.\"\n",
    "    else:\n",
    "        return \"Error fetching data.\"\n",
    "\n",
    "def convert_csv(input_csv, output_csv):\n",
    "    with open(input_csv, mode='r') as infile, open(output_csv, mode='w', newline='') as outfile:\n",
    "        reader = csv.reader(infile)\n",
    "        writer = csv.writer(outfile)\n",
    "        \n",
    "        # Write header\n",
    "        writer.writerow([\"CAS Number\", \"SMILES\"])\n",
    "        \n",
    "        # Skip header in input file\n",
    "        next(reader)\n",
    "        \n",
    "        for row in reader:\n",
    "            cas_number = row[0]\n",
    "            smiles = cas_to_smiles(cas_number)\n",
    "            writer.writerow([cas_number, smiles])\n",
    "\n",
    "# Example usage\n",
    "input_csv = 'failed-smiles.csv'\n",
    "output_csv = 'cas_to_smiles.csv'\n",
    "convert_csv(input_csv, output_csv)\n",
    "\n",
    "print(f\"Conversion complete. The results are saved in {output_csv}.\")\n"
   ]
  },
  {
   "cell_type": "code",
   "execution_count": 10,
   "metadata": {},
   "outputs": [
    {
     "name": "stdout",
     "output_type": "stream",
     "text": [
      "Conversion complete. The results are saved in cas_to_smiles.csv.\n"
     ]
    }
   ],
   "source": [
    "import csv\n",
    "import cirpy\n",
    "\n",
    "def cas_to_smiles_cirpy(cas_number):\n",
    "    smiles = cirpy.resolve(cas_number, 'smiles')\n",
    "    return smiles if smiles else \"SMILES string not found.\"\n",
    "\n",
    "def convert_csv(input_csv, output_csv):\n",
    "    with open(input_csv, mode='r') as infile, open(output_csv, mode='w', newline='') as outfile:\n",
    "        reader = csv.reader(infile)\n",
    "        writer = csv.writer(outfile)\n",
    "        \n",
    "        # Write header\n",
    "        writer.writerow([\"CAS Number\", \"SMILES\"])\n",
    "        \n",
    "        # Skip header in input file\n",
    "        next(reader)\n",
    "        \n",
    "        for row in reader:\n",
    "            cas_number = row[0]\n",
    "            smiles = cas_to_smiles_cirpy(cas_number)\n",
    "            writer.writerow([cas_number, smiles])\n",
    "\n",
    "# Example usage\n",
    "input_csv = 'failed-smiles.csv'\n",
    "output_csv = 'cas_to_smiles.csv'\n",
    "convert_csv(input_csv, output_csv)\n",
    "\n",
    "print(f\"Conversion complete. The results are saved in {output_csv}.\")"
   ]
  },
  {
   "cell_type": "code",
   "execution_count": 9,
   "metadata": {},
   "outputs": [
    {
     "name": "stdout",
     "output_type": "stream",
     "text": [
      "Collecting cirpy\n",
      "  Downloading CIRpy-1.0.2.tar.gz (20 kB)\n",
      "  Preparing metadata (setup.py): started\n",
      "  Preparing metadata (setup.py): finished with status 'done'\n",
      "Building wheels for collected packages: cirpy\n",
      "  Building wheel for cirpy (setup.py): started\n",
      "  Building wheel for cirpy (setup.py): finished with status 'done'\n",
      "  Created wheel for cirpy: filename=CIRpy-1.0.2-py3-none-any.whl size=7288 sha256=710012fe899962d6eb7d3ca611c522cc504d9f6235c602a5196ab6907ccf13e2\n",
      "  Stored in directory: c:\\users\\savannah talledo\\appdata\\local\\pip\\cache\\wheels\\48\\78\\17\\44312649d6e053ad343fc82af1dac7ba7ddd866016abe86f41\n",
      "Successfully built cirpy\n",
      "Installing collected packages: cirpy\n",
      "Successfully installed cirpy-1.0.2\n",
      "Note: you may need to restart the kernel to use updated packages.\n"
     ]
    }
   ],
   "source": [
    "pip install cirpy"
   ]
  }
 ],
 "metadata": {
  "kernelspec": {
   "display_name": "Python 3",
   "language": "python",
   "name": "python3"
  },
  "language_info": {
   "codemirror_mode": {
    "name": "ipython",
    "version": 3
   },
   "file_extension": ".py",
   "mimetype": "text/x-python",
   "name": "python",
   "nbconvert_exporter": "python",
   "pygments_lexer": "ipython3",
   "version": "3.11.10"
  }
 },
 "nbformat": 4,
 "nbformat_minor": 2
}
