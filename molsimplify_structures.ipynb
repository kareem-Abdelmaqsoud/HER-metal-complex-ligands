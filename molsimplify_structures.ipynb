{
 "cells": [
  {
   "cell_type": "markdown",
   "id": "f35ecaac",
   "metadata": {},
   "source": [
    "## First, let's add the benzimidazoles ligand to the package (only needs to be done once)"
   ]
  },
  {
   "cell_type": "code",
   "execution_count": null,
   "id": "02cb156a",
   "metadata": {},
   "outputs": [],
   "source": [
    "!molsimplify -ligadd \"[nH]1cnc2ccccc12\" -ligname benzimidazole -ligcon 1 -skipANN True"
   ]
  },
  {
   "cell_type": "code",
   "execution_count": null,
   "id": "7d5e9bb8",
   "metadata": {},
   "outputs": [],
   "source": [
    "!molsimplify -lig benzimidazole -ligocc 1 -skipANN True"
   ]
  },
  {
   "cell_type": "markdown",
   "id": "02390c62",
   "metadata": {},
   "source": [
    "## Now, let's construct the complex \n",
    "### Here we add 6 ligands"
   ]
  },
  {
   "cell_type": "code",
   "execution_count": null,
   "id": "7d9779b2",
   "metadata": {},
   "outputs": [],
   "source": [
    "from molSimplify.Scripts.generator import startgen_pythonic\n",
    "\n",
    "input_dict = {\n",
    "    \"-core\": \"nickel\",\n",
    "    \"-lig\": \"benzimidazole\",\n",
    "    \"-ligocc\": \"6\",   # 6 benzimidazoles\n",
    "    \"-coord\": \"6\",\n",
    "    \"-ox\": \"2\",\n",
    "    \"-spin\": \"1\",\n",
    "}\n",
    "\n",
    "\n",
    "startgen_pythonic(input_dict=input_dict, write=True)"
   ]
  },
  {
   "cell_type": "code",
   "execution_count": null,
   "id": "2661a02e",
   "metadata": {},
   "outputs": [],
   "source": [
    "from ase.io import read\n",
    "atoms = read('/home/jovyan/shared-scratch-kabdelma-pvc/kabdelma/HER-metal-complex-ligands/Runs/ni_oct_2_benzimidazole_6_s_1/ni_oct_2_benzimidazole_6_s_1_conf_1/ni_oct_2_benzimidazole_6_s_1_conf_1.xyz')"
   ]
  },
  {
   "cell_type": "code",
   "execution_count": null,
   "id": "370c4ea8",
   "metadata": {},
   "outputs": [],
   "source": [
    "from ase.visualize import view\n",
    "view(atoms, viewer='x3d')"
   ]
  },
  {
   "cell_type": "markdown",
   "id": "e1019503",
   "metadata": {},
   "source": [
    "## Try 3 ligands only"
   ]
  },
  {
   "cell_type": "code",
   "execution_count": null,
   "id": "5492913c",
   "metadata": {},
   "outputs": [],
   "source": [
    "input_dict = {\n",
    "    \"-core\": \"nickel\",\n",
    "    \"-lig\": \"benzimidazole\",\n",
    "    \"-ligocc\": \"3\",   # <-- 3 ligands now\n",
    "    \"-coord\": \"3\",    # <-- coordination number 3\n",
    "    \"-ox\": \"2\",\n",
    "    \"-spin\": \"1\",\n",
    "}\n"
   ]
  }
 ],
 "metadata": {
  "language_info": {
   "name": "python"
  }
 },
 "nbformat": 4,
 "nbformat_minor": 5
}
